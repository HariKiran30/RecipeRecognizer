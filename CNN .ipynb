{
 "cells": [
  {
   "cell_type": "code",
   "execution_count": 1,
   "id": "7cdaa197",
   "metadata": {
    "scrolled": true
   },
   "outputs": [
    {
     "name": "stderr",
     "output_type": "stream",
     "text": [
      "C:\\Users\\HARI\\anaconda3\\lib\\site-packages\\scipy\\__init__.py:155: UserWarning: A NumPy version >=1.18.5 and <1.25.0 is required for this version of SciPy (detected version 1.26.4\n",
      "  warnings.warn(f\"A NumPy version >={np_minversion} and <{np_maxversion}\"\n"
     ]
    },
    {
     "name": "stdout",
     "output_type": "stream",
     "text": [
      "WARNING:tensorflow:From C:\\Users\\HARI\\anaconda3\\lib\\site-packages\\keras\\src\\losses.py:2976: The name tf.losses.sparse_softmax_cross_entropy is deprecated. Please use tf.compat.v1.losses.sparse_softmax_cross_entropy instead.\n",
      "\n"
     ]
    }
   ],
   "source": [
    "import numpy as np#used for numerical analysis\n",
    "import tensorflow #open source used for both ML and DL for computation\n",
    "from tensorflow.keras.models import Sequential #it is a plain stack of layers\n",
    "from tensorflow.keras import layers #A layer consists of a tensor-in tensor-out computation function\n",
    "#Dense layer is the regular deeply connected neural network layer\n",
    "from tensorflow.keras.layers import Dense,Flatten\n",
    "#Faltten-used fot flattening the input or change the dimension\n",
    "from tensorflow.keras.layers import Conv2D,MaxPooling2D #Convolutional layer\n",
    "#MaxPooling2D-for downsampling the image\n",
    "from keras.preprocessing.image import ImageDataGenerator"
   ]
  },
  {
   "cell_type": "code",
   "execution_count": 2,
   "id": "056401f3",
   "metadata": {},
   "outputs": [],
   "source": [
    "#setting parameter for Image Data agumentation to the traing data\n",
    "train_datagen=ImageDataGenerator(rescale=1./255,shear_range=0.2,zoom_range=0.2,horizontal_flip=True)"
   ]
  },
  {
   "cell_type": "code",
   "execution_count": 3,
   "id": "24379cb5",
   "metadata": {},
   "outputs": [],
   "source": [
    "#Image Data agumentation to the testing data \n",
    "test_datagen = ImageDataGenerator(rescale=1./255)"
   ]
  },
  {
   "cell_type": "code",
   "execution_count": 4,
   "id": "c72b8f47",
   "metadata": {},
   "outputs": [],
   "source": [
    "#Image Data agumentation for the validation data\n",
    "valid_datagen = ImageDataGenerator(rescale = 1./255)"
   ]
  },
  {
   "cell_type": "code",
   "execution_count": 5,
   "id": "358952b1",
   "metadata": {},
   "outputs": [
    {
     "name": "stdout",
     "output_type": "stream",
     "text": [
      "Found 2246 images belonging to 8 classes.\n",
      "Found 792 images belonging to 8 classes.\n",
      "Found 269 images belonging to 8 classes.\n"
     ]
    }
   ],
   "source": [
    "#performing data agumentation to train data\n",
    "x_train=train_datagen.flow_from_directory(directory=r'/train_set'\n",
    " ,target_size=(64,64),batch_size=32,class_mode='categorical')\n",
    "#performing data agumentation to test data\n",
    "x_test=test_datagen.flow_from_directory(directory=r'/test_set'\n",
    " ,target_size=(64,64),batch_size=32,class_mode='categorical')\n",
    "#performing data agumentation to Valid data\n",
    "x_valid =valid_datagen.flow_from_directory(directory=r'/valid_set',\n",
    " target_size=(64,64), batch_size=32, class_mode='categorical')"
   ]
  },
  {
   "cell_type": "code",
   "execution_count": 6,
   "id": "4b8468e8",
   "metadata": {},
   "outputs": [
    {
     "name": "stdout",
     "output_type": "stream",
     "text": [
      "{'Dosa': 0, 'Gulab Jamun': 1, 'Idly': 2, 'Rice': 3, 'Vada': 4, 'Vada_pav': 5, 'french_fries': 6, 'pizza': 7}\n"
     ]
    }
   ],
   "source": [
    "print(x_train.class_indices)#checking the number of classes"
   ]
  },
  {
   "cell_type": "code",
   "execution_count": 7,
   "id": "f3325941",
   "metadata": {},
   "outputs": [
    {
     "name": "stdout",
     "output_type": "stream",
     "text": [
      "{'Dosa': 0, 'Gulab Jamun': 1, 'Idly': 2, 'Rice': 3, 'Vada': 4, 'Vada_pav': 5, 'french_fries': 6, 'pizza': 7}\n"
     ]
    }
   ],
   "source": [
    "print(x_test.class_indices)#checking the number of classes\n"
   ]
  },
  {
   "cell_type": "code",
   "execution_count": 8,
   "id": "852ec0d8",
   "metadata": {},
   "outputs": [
    {
     "name": "stdout",
     "output_type": "stream",
     "text": [
      "{'Dosa': 0, 'Gulab Jamun': 1, 'Idly': 2, 'Rice': 3, 'Vada': 4, 'Vada_pav': 5, 'french_fries': 6, 'pizza': 7}\n"
     ]
    }
   ],
   "source": [
    "print(x_valid.class_indices)#checking the number of classes"
   ]
  },
  {
   "cell_type": "code",
   "execution_count": 9,
   "id": "fb148c0b",
   "metadata": {},
   "outputs": [
    {
     "data": {
      "text/plain": [
       "Counter({0: 100, 1: 136, 2: 100, 3: 100, 4: 100, 5: 102, 6: 804, 7: 804})"
      ]
     },
     "execution_count": 9,
     "metadata": {},
     "output_type": "execute_result"
    }
   ],
   "source": [
    "from collections import Counter as c\n",
    "c(x_train.labels)\n"
   ]
  },
  {
   "cell_type": "code",
   "execution_count": 10,
   "id": "a3e746d5",
   "metadata": {},
   "outputs": [
    {
     "name": "stdout",
     "output_type": "stream",
     "text": [
      "WARNING:tensorflow:From C:\\Users\\HARI\\anaconda3\\lib\\site-packages\\keras\\src\\backend.py:873: The name tf.get_default_graph is deprecated. Please use tf.compat.v1.get_default_graph instead.\n",
      "\n",
      "WARNING:tensorflow:From C:\\Users\\HARI\\anaconda3\\lib\\site-packages\\keras\\src\\layers\\pooling\\max_pooling2d.py:161: The name tf.nn.max_pool is deprecated. Please use tf.nn.max_pool2d instead.\n",
      "\n"
     ]
    }
   ],
   "source": [
    "# create model\n",
    "model=Sequential()\n",
    "# adding model layer\n",
    "model.add(Conv2D(32,(3,3),input_shape=(64,64,3),activation='relu'))#convolutional layer\n",
    "model.add(MaxPooling2D(pool_size=(2,2))) #MaxPooling2D-for downsampling the input\n",
    "model.add(Conv2D(32,(3,3),activation='relu'))\n",
    "model.add(MaxPooling2D(pool_size=(2,2)))\n",
    "#model.add(Dropout(0.2))#droping input randomly for preventing from overfiting\n",
    "model.add(Flatten())#flatten the dimension of the image\n",
    "model.add(Dense(32))#deeply connected neural network layers.\n",
    "model.add(Dense(8,activation='softmax'))#output layer with 3 neurons"
   ]
  },
  {
   "cell_type": "code",
   "execution_count": 11,
   "id": "44337300",
   "metadata": {},
   "outputs": [
    {
     "name": "stdout",
     "output_type": "stream",
     "text": [
      "Model: \"sequential\"\n",
      "_________________________________________________________________\n",
      " Layer (type)                Output Shape              Param #   \n",
      "=================================================================\n",
      " conv2d (Conv2D)             (None, 62, 62, 32)        896       \n",
      "                                                                 \n",
      " max_pooling2d (MaxPooling2  (None, 31, 31, 32)        0         \n",
      " D)                                                              \n",
      "                                                                 \n",
      " conv2d_1 (Conv2D)           (None, 29, 29, 32)        9248      \n",
      "                                                                 \n",
      " max_pooling2d_1 (MaxPoolin  (None, 14, 14, 32)        0         \n",
      " g2D)                                                            \n",
      "                                                                 \n",
      " flatten (Flatten)           (None, 6272)              0         \n",
      "                                                                 \n",
      " dense (Dense)               (None, 32)                200736    \n",
      "                                                                 \n",
      " dense_1 (Dense)             (None, 8)                 264       \n",
      "                                                                 \n",
      "=================================================================\n",
      "Total params: 211144 (824.78 KB)\n",
      "Trainable params: 211144 (824.78 KB)\n",
      "Non-trainable params: 0 (0.00 Byte)\n",
      "_________________________________________________________________\n"
     ]
    }
   ],
   "source": [
    "model.summary()#summary of our model"
   ]
  },
  {
   "cell_type": "code",
   "execution_count": 12,
   "id": "69be5625",
   "metadata": {},
   "outputs": [
    {
     "name": "stdout",
     "output_type": "stream",
     "text": [
      "WARNING:tensorflow:From C:\\Users\\HARI\\anaconda3\\lib\\site-packages\\keras\\src\\optimizers\\__init__.py:309: The name tf.train.Optimizer is deprecated. Please use tf.compat.v1.train.Optimizer instead.\n",
      "\n"
     ]
    }
   ],
   "source": [
    "#Compile model\n",
    "model.compile(optimizer='adam',loss='categorical_crossentropy',metrics=['accuracy'])\n"
   ]
  },
  {
   "cell_type": "code",
   "execution_count": 13,
   "id": "b2615e7e",
   "metadata": {},
   "outputs": [],
   "source": [
    "from keras.callbacks import ModelCheckpoint\n",
    "# specify the path to save the best model\n",
    "checkpoint_filepath = 'Classification_Models/Check Points/CNN'\n",
    "# create a ModelCheckpoint callback\n",
    "model_checkpoint_callback = ModelCheckpoint(\n",
    "filepath=checkpoint_filepath,\n",
    "save_weights_only=True,\n",
    "monitor='val_accuracy',\n",
    "mode='max',\n",
    "save_best_only=True)"
   ]
  },
  {
   "cell_type": "code",
   "execution_count": 14,
   "id": "4118f68a",
   "metadata": {},
   "outputs": [],
   "source": [
    "# #Fit the model\n",
    "# model.fit(x_train, steps_per_epoch=len(x_train), epochs=40, \n",
    "# validation_data=x_valid, validation_steps=len(x_valid),\n",
    "# callbacks=[model_checkpoint_callback])"
   ]
  },
  {
   "cell_type": "code",
   "execution_count": 15,
   "id": "562fd0cc",
   "metadata": {},
   "outputs": [
    {
     "name": "stdout",
     "output_type": "stream",
     "text": [
      "Epoch 1/80\n",
      "WARNING:tensorflow:From C:\\Users\\HARI\\anaconda3\\lib\\site-packages\\keras\\src\\utils\\tf_utils.py:492: The name tf.ragged.RaggedTensorValue is deprecated. Please use tf.compat.v1.ragged.RaggedTensorValue instead.\n",
      "\n",
      "WARNING:tensorflow:From C:\\Users\\HARI\\anaconda3\\lib\\site-packages\\keras\\src\\engine\\base_layer_utils.py:384: The name tf.executing_eagerly_outside_functions is deprecated. Please use tf.compat.v1.executing_eagerly_outside_functions instead.\n",
      "\n",
      "71/71 [==============================] - 34s 451ms/step - loss: 1.4653 - accuracy: 0.4448 - val_loss: 1.9467 - val_accuracy: 0.3346\n",
      "Epoch 2/80\n",
      "71/71 [==============================] - 34s 475ms/step - loss: 1.1912 - accuracy: 0.5806 - val_loss: 1.5358 - val_accuracy: 0.4201\n",
      "Epoch 3/80\n",
      "71/71 [==============================] - 24s 331ms/step - loss: 1.0705 - accuracy: 0.6224 - val_loss: 1.5522 - val_accuracy: 0.5056\n",
      "Epoch 4/80\n",
      "71/71 [==============================] - 24s 332ms/step - loss: 0.9604 - accuracy: 0.6509 - val_loss: 1.3824 - val_accuracy: 0.5353\n",
      "Epoch 5/80\n",
      "71/71 [==============================] - 25s 346ms/step - loss: 0.8867 - accuracy: 0.6817 - val_loss: 1.1173 - val_accuracy: 0.5948\n",
      "Epoch 6/80\n",
      "71/71 [==============================] - 26s 373ms/step - loss: 0.8830 - accuracy: 0.6728 - val_loss: 1.1996 - val_accuracy: 0.5836\n",
      "Epoch 7/80\n",
      "71/71 [==============================] - 40s 564ms/step - loss: 0.8266 - accuracy: 0.7004 - val_loss: 1.1859 - val_accuracy: 0.5725\n",
      "Epoch 8/80\n",
      "71/71 [==============================] - 38s 538ms/step - loss: 0.7875 - accuracy: 0.7084 - val_loss: 1.3981 - val_accuracy: 0.5539\n",
      "Epoch 9/80\n",
      "71/71 [==============================] - 28s 397ms/step - loss: 0.7198 - accuracy: 0.7476 - val_loss: 1.2717 - val_accuracy: 0.5762\n",
      "Epoch 10/80\n",
      "71/71 [==============================] - 23s 329ms/step - loss: 0.7107 - accuracy: 0.7507 - val_loss: 1.1680 - val_accuracy: 0.5799\n",
      "Epoch 11/80\n",
      "71/71 [==============================] - 24s 331ms/step - loss: 0.6489 - accuracy: 0.7680 - val_loss: 1.3733 - val_accuracy: 0.5911\n",
      "Epoch 12/80\n",
      "71/71 [==============================] - 24s 337ms/step - loss: 0.6229 - accuracy: 0.7783 - val_loss: 1.5637 - val_accuracy: 0.5428\n",
      "Epoch 13/80\n",
      "71/71 [==============================] - 25s 344ms/step - loss: 0.6243 - accuracy: 0.7711 - val_loss: 0.9905 - val_accuracy: 0.6729\n",
      "Epoch 14/80\n",
      "71/71 [==============================] - 23s 330ms/step - loss: 0.5868 - accuracy: 0.7890 - val_loss: 1.3648 - val_accuracy: 0.6468\n",
      "Epoch 15/80\n",
      "71/71 [==============================] - 24s 335ms/step - loss: 0.5217 - accuracy: 0.8108 - val_loss: 1.3337 - val_accuracy: 0.6171\n",
      "Epoch 16/80\n",
      "71/71 [==============================] - 24s 330ms/step - loss: 0.4954 - accuracy: 0.8201 - val_loss: 1.2202 - val_accuracy: 0.6431\n",
      "Epoch 17/80\n",
      "71/71 [==============================] - 24s 337ms/step - loss: 0.5040 - accuracy: 0.8143 - val_loss: 1.0712 - val_accuracy: 0.7138\n",
      "Epoch 18/80\n",
      "71/71 [==============================] - 24s 334ms/step - loss: 0.4349 - accuracy: 0.8464 - val_loss: 1.1822 - val_accuracy: 0.6729\n",
      "Epoch 19/80\n",
      "71/71 [==============================] - 24s 344ms/step - loss: 0.4738 - accuracy: 0.8321 - val_loss: 1.2122 - val_accuracy: 0.6691\n",
      "Epoch 20/80\n",
      "71/71 [==============================] - 35s 494ms/step - loss: 0.4591 - accuracy: 0.8317 - val_loss: 0.9823 - val_accuracy: 0.7249\n",
      "Epoch 21/80\n",
      "71/71 [==============================] - 37s 526ms/step - loss: 0.4201 - accuracy: 0.8580 - val_loss: 1.1641 - val_accuracy: 0.7063\n",
      "Epoch 22/80\n",
      "71/71 [==============================] - 38s 535ms/step - loss: 0.3876 - accuracy: 0.8642 - val_loss: 1.1748 - val_accuracy: 0.7026\n",
      "Epoch 23/80\n",
      "71/71 [==============================] - 26s 364ms/step - loss: 0.3478 - accuracy: 0.8704 - val_loss: 1.2144 - val_accuracy: 0.6766\n",
      "Epoch 24/80\n",
      "71/71 [==============================] - 24s 332ms/step - loss: 0.3502 - accuracy: 0.8700 - val_loss: 1.3368 - val_accuracy: 0.6840\n",
      "Epoch 25/80\n",
      "71/71 [==============================] - 24s 332ms/step - loss: 0.3090 - accuracy: 0.8878 - val_loss: 1.2049 - val_accuracy: 0.6952\n",
      "Epoch 26/80\n",
      "71/71 [==============================] - 24s 334ms/step - loss: 0.3492 - accuracy: 0.8771 - val_loss: 1.1219 - val_accuracy: 0.7175\n",
      "Epoch 27/80\n",
      "71/71 [==============================] - 25s 358ms/step - loss: 0.2910 - accuracy: 0.8923 - val_loss: 1.2144 - val_accuracy: 0.7212\n",
      "Epoch 28/80\n",
      "71/71 [==============================] - 24s 333ms/step - loss: 0.3070 - accuracy: 0.8882 - val_loss: 1.2106 - val_accuracy: 0.7286\n",
      "Epoch 29/80\n",
      "71/71 [==============================] - 24s 338ms/step - loss: 0.2984 - accuracy: 0.8900 - val_loss: 1.1723 - val_accuracy: 0.7138\n",
      "Epoch 30/80\n",
      "71/71 [==============================] - 24s 336ms/step - loss: 0.2560 - accuracy: 0.9065 - val_loss: 1.5153 - val_accuracy: 0.6989\n",
      "Epoch 31/80\n",
      "71/71 [==============================] - 24s 332ms/step - loss: 0.2848 - accuracy: 0.8891 - val_loss: 1.2359 - val_accuracy: 0.6914\n",
      "Epoch 32/80\n",
      "71/71 [==============================] - 24s 338ms/step - loss: 0.2980 - accuracy: 0.8976 - val_loss: 1.3518 - val_accuracy: 0.6543\n",
      "Epoch 33/80\n",
      "71/71 [==============================] - 24s 335ms/step - loss: 0.2638 - accuracy: 0.9016 - val_loss: 1.2849 - val_accuracy: 0.7026\n",
      "Epoch 34/80\n",
      "71/71 [==============================] - 23s 330ms/step - loss: 0.2111 - accuracy: 0.9248 - val_loss: 1.4522 - val_accuracy: 0.6729\n",
      "Epoch 35/80\n",
      "71/71 [==============================] - 24s 339ms/step - loss: 0.2373 - accuracy: 0.9185 - val_loss: 1.3956 - val_accuracy: 0.7249\n",
      "Epoch 36/80\n",
      "71/71 [==============================] - 24s 331ms/step - loss: 0.2276 - accuracy: 0.9194 - val_loss: 1.2511 - val_accuracy: 0.7435\n",
      "Epoch 37/80\n",
      "71/71 [==============================] - 24s 330ms/step - loss: 0.2227 - accuracy: 0.9141 - val_loss: 1.3753 - val_accuracy: 0.7100\n",
      "Epoch 38/80\n",
      "71/71 [==============================] - 24s 335ms/step - loss: 0.2060 - accuracy: 0.9252 - val_loss: 1.4578 - val_accuracy: 0.6952\n",
      "Epoch 39/80\n",
      "71/71 [==============================] - 23s 329ms/step - loss: 0.2028 - accuracy: 0.9274 - val_loss: 1.3057 - val_accuracy: 0.7286\n",
      "Epoch 40/80\n",
      "71/71 [==============================] - 24s 341ms/step - loss: 0.1869 - accuracy: 0.9354 - val_loss: 1.3903 - val_accuracy: 0.7100\n",
      "Epoch 41/80\n",
      "71/71 [==============================] - 24s 331ms/step - loss: 0.1890 - accuracy: 0.9328 - val_loss: 1.4961 - val_accuracy: 0.7212\n",
      "Epoch 42/80\n",
      "71/71 [==============================] - 24s 341ms/step - loss: 0.1846 - accuracy: 0.9430 - val_loss: 1.4475 - val_accuracy: 0.7175\n",
      "Epoch 43/80\n",
      "71/71 [==============================] - 24s 338ms/step - loss: 0.1879 - accuracy: 0.9350 - val_loss: 1.8069 - val_accuracy: 0.6431\n",
      "Epoch 44/80\n",
      "71/71 [==============================] - 23s 330ms/step - loss: 0.1848 - accuracy: 0.9328 - val_loss: 1.6381 - val_accuracy: 0.6729\n",
      "Epoch 45/80\n",
      "71/71 [==============================] - 24s 340ms/step - loss: 0.1701 - accuracy: 0.9394 - val_loss: 1.4706 - val_accuracy: 0.7063\n",
      "Epoch 46/80\n",
      "71/71 [==============================] - 25s 354ms/step - loss: 0.1814 - accuracy: 0.9377 - val_loss: 1.6645 - val_accuracy: 0.6914\n",
      "Epoch 47/80\n",
      "71/71 [==============================] - 24s 335ms/step - loss: 0.1768 - accuracy: 0.9350 - val_loss: 1.5010 - val_accuracy: 0.7026\n",
      "Epoch 48/80\n",
      "71/71 [==============================] - 26s 358ms/step - loss: 0.1540 - accuracy: 0.9390 - val_loss: 1.4456 - val_accuracy: 0.7286\n",
      "Epoch 49/80\n",
      "71/71 [==============================] - 28s 388ms/step - loss: 0.1774 - accuracy: 0.9332 - val_loss: 1.6853 - val_accuracy: 0.6729\n",
      "Epoch 50/80\n",
      "71/71 [==============================] - 27s 372ms/step - loss: 0.1832 - accuracy: 0.9332 - val_loss: 1.6636 - val_accuracy: 0.6989\n",
      "Epoch 51/80\n",
      "71/71 [==============================] - 27s 383ms/step - loss: 0.1405 - accuracy: 0.9492 - val_loss: 1.6028 - val_accuracy: 0.6989\n",
      "Epoch 52/80\n",
      "71/71 [==============================] - 26s 372ms/step - loss: 0.1386 - accuracy: 0.9515 - val_loss: 1.6587 - val_accuracy: 0.6989\n",
      "Epoch 53/80\n",
      "71/71 [==============================] - 27s 379ms/step - loss: 0.1278 - accuracy: 0.9524 - val_loss: 1.6244 - val_accuracy: 0.7323\n",
      "Epoch 54/80\n",
      "71/71 [==============================] - 27s 379ms/step - loss: 0.1323 - accuracy: 0.9546 - val_loss: 1.5396 - val_accuracy: 0.7435\n"
     ]
    },
    {
     "name": "stdout",
     "output_type": "stream",
     "text": [
      "Epoch 55/80\n",
      "71/71 [==============================] - 26s 360ms/step - loss: 0.1377 - accuracy: 0.9475 - val_loss: 1.9511 - val_accuracy: 0.6952\n",
      "Epoch 56/80\n",
      "71/71 [==============================] - 24s 338ms/step - loss: 0.1382 - accuracy: 0.9519 - val_loss: 1.7209 - val_accuracy: 0.7212\n",
      "Epoch 57/80\n",
      "71/71 [==============================] - 24s 332ms/step - loss: 0.1722 - accuracy: 0.9377 - val_loss: 1.8894 - val_accuracy: 0.6803\n",
      "Epoch 58/80\n",
      "71/71 [==============================] - 23s 328ms/step - loss: 0.1538 - accuracy: 0.9435 - val_loss: 1.6377 - val_accuracy: 0.6729\n",
      "Epoch 59/80\n",
      "71/71 [==============================] - 24s 333ms/step - loss: 0.1502 - accuracy: 0.9435 - val_loss: 2.1696 - val_accuracy: 0.6914\n",
      "Epoch 60/80\n",
      "71/71 [==============================] - 23s 329ms/step - loss: 0.1434 - accuracy: 0.9492 - val_loss: 1.7636 - val_accuracy: 0.7249\n",
      "Epoch 61/80\n",
      "71/71 [==============================] - 23s 328ms/step - loss: 0.1233 - accuracy: 0.9564 - val_loss: 1.8383 - val_accuracy: 0.7063\n",
      "Epoch 62/80\n",
      "71/71 [==============================] - 24s 331ms/step - loss: 0.1468 - accuracy: 0.9501 - val_loss: 2.0137 - val_accuracy: 0.6914\n",
      "Epoch 63/80\n",
      "71/71 [==============================] - 23s 330ms/step - loss: 0.0946 - accuracy: 0.9604 - val_loss: 1.7277 - val_accuracy: 0.7063\n",
      "Epoch 64/80\n",
      "71/71 [==============================] - 24s 336ms/step - loss: 0.1133 - accuracy: 0.9630 - val_loss: 1.7392 - val_accuracy: 0.7212\n",
      "Epoch 65/80\n",
      "71/71 [==============================] - 23s 328ms/step - loss: 0.1607 - accuracy: 0.9439 - val_loss: 1.9652 - val_accuracy: 0.6468\n",
      "Epoch 66/80\n",
      "71/71 [==============================] - 26s 365ms/step - loss: 0.1386 - accuracy: 0.9524 - val_loss: 1.8182 - val_accuracy: 0.7212\n",
      "Epoch 67/80\n",
      "71/71 [==============================] - 28s 395ms/step - loss: 0.1304 - accuracy: 0.9510 - val_loss: 1.7856 - val_accuracy: 0.7138\n",
      "Epoch 68/80\n",
      "71/71 [==============================] - 24s 339ms/step - loss: 0.0962 - accuracy: 0.9675 - val_loss: 2.0350 - val_accuracy: 0.6580\n",
      "Epoch 69/80\n",
      "71/71 [==============================] - 26s 361ms/step - loss: 0.1162 - accuracy: 0.9559 - val_loss: 2.2285 - val_accuracy: 0.6766\n",
      "Epoch 70/80\n",
      "71/71 [==============================] - 27s 375ms/step - loss: 0.1241 - accuracy: 0.9528 - val_loss: 1.9335 - val_accuracy: 0.7361\n",
      "Epoch 71/80\n",
      "71/71 [==============================] - 24s 338ms/step - loss: 0.0942 - accuracy: 0.9639 - val_loss: 2.0885 - val_accuracy: 0.7212\n",
      "Epoch 72/80\n",
      "71/71 [==============================] - 24s 342ms/step - loss: 0.1217 - accuracy: 0.9568 - val_loss: 2.3630 - val_accuracy: 0.6877\n",
      "Epoch 73/80\n",
      "71/71 [==============================] - 24s 338ms/step - loss: 0.0975 - accuracy: 0.9648 - val_loss: 2.0620 - val_accuracy: 0.7138\n",
      "Epoch 74/80\n",
      "71/71 [==============================] - 24s 339ms/step - loss: 0.0820 - accuracy: 0.9711 - val_loss: 2.1938 - val_accuracy: 0.7063\n",
      "Epoch 75/80\n",
      "71/71 [==============================] - 25s 346ms/step - loss: 0.0810 - accuracy: 0.9702 - val_loss: 1.9629 - val_accuracy: 0.7398\n",
      "Epoch 76/80\n",
      "71/71 [==============================] - 25s 346ms/step - loss: 0.1359 - accuracy: 0.9537 - val_loss: 2.6564 - val_accuracy: 0.6691\n",
      "Epoch 77/80\n",
      "71/71 [==============================] - 24s 342ms/step - loss: 0.0997 - accuracy: 0.9688 - val_loss: 2.0967 - val_accuracy: 0.7138\n",
      "Epoch 78/80\n",
      "71/71 [==============================] - 26s 363ms/step - loss: 0.0759 - accuracy: 0.9697 - val_loss: 2.3822 - val_accuracy: 0.6989\n",
      "Epoch 79/80\n",
      "71/71 [==============================] - 23s 322ms/step - loss: 0.0891 - accuracy: 0.9662 - val_loss: 2.3742 - val_accuracy: 0.7026\n",
      "Epoch 80/80\n",
      "71/71 [==============================] - 25s 351ms/step - loss: 0.0818 - accuracy: 0.9697 - val_loss: 2.4037 - val_accuracy: 0.7063\n"
     ]
    },
    {
     "data": {
      "text/plain": [
       "<keras.src.callbacks.History at 0x2660f9d1fa0>"
      ]
     },
     "execution_count": 15,
     "metadata": {},
     "output_type": "execute_result"
    }
   ],
   "source": [
    "# Fit the model\n",
    "model.fit(x_train, steps_per_epoch=len(x_train), epochs=80, \n",
    " validation_data=x_valid, validation_steps=len(x_valid))"
   ]
  },
  {
   "cell_type": "code",
   "execution_count": 16,
   "id": "66913671",
   "metadata": {},
   "outputs": [
    {
     "name": "stderr",
     "output_type": "stream",
     "text": [
      "C:\\Users\\HARI\\anaconda3\\lib\\site-packages\\keras\\src\\engine\\training.py:3103: UserWarning: You are saving your model as an HDF5 file via `model.save()`. This file format is considered legacy. We recommend using instead the native Keras format, e.g. `model.save('my_model.keras')`.\n",
      "  saving_api.save_model(\n"
     ]
    }
   ],
   "source": [
    "# Save the model\n",
    "model.save('food_CNN_ep80.h5')"
   ]
  },
  {
   "cell_type": "code",
   "execution_count": 17,
   "id": "e6cf8575",
   "metadata": {},
   "outputs": [],
   "source": [
    "from tensorflow.keras.models import load_model\n",
    "from keras.preprocessing import image\n",
    "model = load_model(\"food_cnn.h5\") #loading the model for testing"
   ]
  },
  {
   "cell_type": "code",
   "execution_count": 26,
   "id": "78928831",
   "metadata": {},
   "outputs": [
    {
     "name": "stdout",
     "output_type": "stream",
     "text": [
      "1/1 [==============================] - 0s 50ms/step\n"
     ]
    },
    {
     "data": {
      "text/plain": [
       "array([0], dtype=int64)"
      ]
     },
     "execution_count": 26,
     "metadata": {},
     "output_type": "execute_result"
    }
   ],
   "source": [
    "img = image.load_img(r\"\\DATASET\\training_set\\Dosa\\0.jpg\",target_size= (64,64))\n",
    "x = image.img_to_array(img)#image to array\n",
    "x = np.expand_dims(x,axis = 0)#changing the shape\n",
    "#pred = model.predict_classes(x)#predicting the classes\n",
    "pred = np.argmax(model.predict(x), axis=-1)\n",
    "pred"
   ]
  },
  {
   "cell_type": "code",
   "execution_count": 27,
   "id": "d0e9a85f",
   "metadata": {},
   "outputs": [
    {
     "data": {
      "text/plain": [
       "'Dosa'"
      ]
     },
     "execution_count": 27,
     "metadata": {},
     "output_type": "execute_result"
    }
   ],
   "source": [
    "index = ['Dosa', 'Gulab Jamun', 'Idly', 'Rice', 'Vada', 'Vada_pav', 'french_fries', 'pizza']\n",
    "result=str(index[pred[0]])\n",
    "result\n"
   ]
  },
  {
   "cell_type": "code",
   "execution_count": 28,
   "id": "f1a0acc7",
   "metadata": {},
   "outputs": [
    {
     "ename": "SyntaxError",
     "evalue": "unexpected EOF while parsing (1359259258.py, line 2)",
     "output_type": "error",
     "traceback": [
      "\u001b[1;36m  File \u001b[1;32m\"1;33m    pred = np.argmax(model.predict(x), axis= -1\u001b[0m\n\u001b[1;37m                                               ^\u001b[0m\n\u001b[1;31mSyntaxError\u001b[0m\u001b[1;31m:\u001b[0m unexpected EOF while parsing\n"
     ]
    }
   ],
   "source": [
    "from sklearn.metrics import f1_score\n",
    "pred = np.argmax(model.predict(x), axis= -1"
   ]
  },
  {
   "cell_type": "code",
   "execution_count": 29,
   "id": "a753efe7",
   "metadata": {},
   "outputs": [],
   "source": [
    "true_labels = x_test.labels"
   ]
  },
  {
   "cell_type": "code",
   "execution_count": 30,
   "id": "52e4b6a9",
   "metadata": {},
   "outputs": [
    {
     "name": "stdout",
     "output_type": "stream",
     "text": [
      "792\n",
      "1\n"
     ]
    }
   ],
   "source": [
    "print(len(true_labels))\n",
    "print(len(pred))"
   ]
  },
  {
   "cell_type": "code",
   "execution_count": 34,
   "id": "01f3387a",
   "metadata": {},
   "outputs": [
    {
     "name": "stdout",
     "output_type": "stream",
     "text": [
      "25/25 [==============================] - 6s 222ms/step\n",
      "True Labels Shape: (792,)\n",
      "Predictions Shape: (792,)\n",
      "True Labels: [0 0 0 0 0 0 0 0 0 0]\n",
      "Predicted Labels: [6 6 7 2 6 1 4 6 7 2]\n"
     ]
    }
   ],
   "source": [
    "# Generate predictions for test data\n",
    "pred = model.predict(x_test)\n",
    "# Convert predictions to class labels\n",
    "pred_labels = np.argmax(pred, axis=1)\n",
    "# Check dimensions and values\n",
    "print(\"True Labels Shape:\", true_labels.shape)\n",
    "print(\"Predictions Shape:\", pred_labels.shape)\n",
    "# Print a few samples\n",
    "print(\"True Labels:\", true_labels[:10])\n",
    "print(\"Predicted Labels:\", pred_labels[:10])"
   ]
  },
  {
   "cell_type": "code",
   "execution_count": 32,
   "id": "f9e91417",
   "metadata": {},
   "outputs": [
    {
     "name": "stdout",
     "output_type": "stream",
     "text": [
      "25/25 [==============================] - 6s 230ms/step - loss: 0.8690 - accuracy: 0.7677\n",
      "Test Accuracy: 0.7676767706871033\n"
     ]
    }
   ],
   "source": [
    "# Evaluate the model on the test data\n",
    "loss, accuracy = model.evaluate(x_test, verbose=1)\n",
    "# Print the accuracy\n",
    "print(\"Test Accuracy:\", accuracy)"
   ]
  },
  {
   "cell_type": "code",
   "execution_count": 25,
   "id": "2e6847a8",
   "metadata": {},
   "outputs": [
    {
     "name": "stdout",
     "output_type": "stream",
     "text": [
      "71/71 [==============================] - 22s 312ms/step - loss: 0.3884 - accuracy: 0.8522\n",
      "Train Accuracy: 0.8521816730499268\n"
     ]
    }
   ],
   "source": [
    "# Evaluate the model on the test data\n",
    "loss, accuracy = model.evaluate(x_train, verbose=1)\n",
    "# Print the accuracy\n",
    "print(\"Train Accuracy:\", accuracy)"
   ]
  },
  {
   "cell_type": "code",
   "execution_count": null,
   "id": "b20963cd",
   "metadata": {},
   "outputs": [],
   "source": []
  }
 ],
 "metadata": {
  "kernelspec": {
   "display_name": "Python 3 (ipykernel)",
   "language": "python",
   "name": "python3"
  },
  "language_info": {
   "codemirror_mode": {
    "name": "ipython",
    "version": 3
   },
   "file_extension": ".py",
   "mimetype": "text/x-python",
   "name": "python",
   "nbconvert_exporter": "python",
   "pygments_lexer": "ipython3",
   "version": "3.9.13"
  }
 },
 "nbformat": 4,
 "nbformat_minor": 5
}
